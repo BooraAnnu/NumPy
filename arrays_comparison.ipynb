{
 "cells": [
  {
   "cell_type": "markdown",
   "metadata": {},
   "source": [
    "# Arrays Comparison"
   ]
  },
  {
   "cell_type": "code",
   "execution_count": 16,
   "metadata": {},
   "outputs": [
    {
     "name": "stdout",
     "output_type": "stream",
     "text": [
      "Result of arr1>arr2 is :  [ True False False False]\n"
     ]
    }
   ],
   "source": [
    "# program to know the effects of any() and all() functions\n",
    "\n",
    "from numpy import *\n",
    "\n",
    "arr1= array([1,2,3,0])\n",
    "arr2= array([0,2,3,1])\n",
    "\n",
    "c= arr1>arr2\n",
    "print(\"Result of arr1>arr2 is : \",c)"
   ]
  },
  {
   "cell_type": "code",
   "execution_count": 17,
   "metadata": {},
   "outputs": [
    {
     "name": "stdout",
     "output_type": "stream",
     "text": [
      "Check if any one element is true :  True\n"
     ]
    }
   ],
   "source": [
    "print(\"Check if any one element is true : \", any(c))"
   ]
  },
  {
   "cell_type": "code",
   "execution_count": 18,
   "metadata": {},
   "outputs": [
    {
     "name": "stdout",
     "output_type": "stream",
     "text": [
      "Check if all the elements is true :  False\n"
     ]
    }
   ],
   "source": [
    "print(\"Check if all the elements is true : \", all(c))"
   ]
  },
  {
   "cell_type": "code",
   "execution_count": 19,
   "metadata": {},
   "outputs": [
    {
     "name": "stdout",
     "output_type": "stream",
     "text": [
      "arr1 contains atleast one element greater than those of arr2\n"
     ]
    }
   ],
   "source": [
    "if (any(arr1>arr2)):\n",
    "    print(\"arr1 contains atleast one element greater than those of arr2\")"
   ]
  }
 ],
 "metadata": {
  "kernelspec": {
   "display_name": "Python 3",
   "language": "python",
   "name": "python3"
  },
  "language_info": {
   "codemirror_mode": {
    "name": "ipython",
    "version": 3
   },
   "file_extension": ".py",
   "mimetype": "text/x-python",
   "name": "python",
   "nbconvert_exporter": "python",
   "pygments_lexer": "ipython3",
   "version": "3.7.6"
  }
 },
 "nbformat": 4,
 "nbformat_minor": 4
}
