{
 "cells": [
  {
   "cell_type": "markdown",
   "metadata": {},
   "source": [
    "# Array Aliasing"
   ]
  },
  {
   "cell_type": "code",
   "execution_count": 1,
   "metadata": {},
   "outputs": [
    {
     "name": "stdout",
     "output_type": "stream",
     "text": [
      "[1 2 3 4 5]\n"
     ]
    }
   ],
   "source": [
    "#Program to alias an array and understand the effect of alias\n",
    "\n",
    "from numpy import *\n",
    "\n",
    "arr= arange(1,6)\n",
    "print(\"Original array is : \",arr)"
   ]
  },
  {
   "cell_type": "code",
   "execution_count": 2,
   "metadata": {},
   "outputs": [
    {
     "name": "stdout",
     "output_type": "stream",
     "text": [
      "Aliasing array is :  [1 2 3 4 5]\n"
     ]
    }
   ],
   "source": [
    "b= arr   #aliasing means give another name b to arr\n",
    "print(\"Aliasing array is : \",b)"
   ]
  },
  {
   "cell_type": "code",
   "execution_count": 4,
   "metadata": {},
   "outputs": [
    {
     "name": "stdout",
     "output_type": "stream",
     "text": [
      "After modification- \n",
      "Original arrays is : [44  2  3  4  5]\n",
      "Aliasing array is :  [44  2  3  4  5]\n"
     ]
    }
   ],
   "source": [
    "b[0]= 44  #modify array b\n",
    "\n",
    "print(\"After modification- \")\n",
    "print(\"Original arrays is :\",arr)\n",
    "print(\"Aliasing array is : \",b)"
   ]
  }
 ],
 "metadata": {
  "kernelspec": {
   "display_name": "Python 3",
   "language": "python",
   "name": "python3"
  },
  "language_info": {
   "codemirror_mode": {
    "name": "ipython",
    "version": 3
   },
   "file_extension": ".py",
   "mimetype": "text/x-python",
   "name": "python",
   "nbconvert_exporter": "python",
   "pygments_lexer": "ipython3",
   "version": "3.7.6"
  }
 },
 "nbformat": 4,
 "nbformat_minor": 4
}
