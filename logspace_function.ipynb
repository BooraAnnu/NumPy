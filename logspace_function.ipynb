{
 "cells": [
  {
   "cell_type": "markdown",
   "metadata": {},
   "source": [
    "# Array creation using logspace() function"
   ]
  },
  {
   "cell_type": "code",
   "execution_count": 6,
   "metadata": {},
   "outputs": [
    {
     "name": "stdout",
     "output_type": "stream",
     "text": [
      " 10.000000  56.234133  316.227766  1778.279410  10000.000000 "
     ]
    }
   ],
   "source": [
    "# A python program to create an array logspace()\n",
    "from numpy import *\n",
    "\n",
    "a= logspace(1, 4, 5)\n",
    "n= len(a)   # find te number of elements in a\n",
    "\n",
    "#repeat from 0 to n-1 items\n",
    "for i in range(n):\n",
    "    print(\"% 1f\" % a[i], end=\" \") \n"
   ]
  }
 ],
 "metadata": {
  "kernelspec": {
   "display_name": "Python 3",
   "language": "python",
   "name": "python3"
  },
  "language_info": {
   "codemirror_mode": {
    "name": "ipython",
    "version": 3
   },
   "file_extension": ".py",
   "mimetype": "text/x-python",
   "name": "python",
   "nbconvert_exporter": "python",
   "pygments_lexer": "ipython3",
   "version": "3.7.6"
  }
 },
 "nbformat": 4,
 "nbformat_minor": 4
}
