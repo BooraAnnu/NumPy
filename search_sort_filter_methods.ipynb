{
 "cells": [
  {
   "cell_type": "markdown",
   "metadata": {},
   "source": [
    "# NumPy array search"
   ]
  },
  {
   "cell_type": "code",
   "execution_count": 11,
   "metadata": {},
   "outputs": [
    {
     "name": "stdout",
     "output_type": "stream",
     "text": [
      "The index of searched element is :  (array([4, 7], dtype=int64),)\n"
     ]
    }
   ],
   "source": [
    "#Python program to find the index where the value is 4 \n",
    "\n",
    "import numpy as np\n",
    "arr = np.array([1, 2, 3, 4, 5, 4, 4,5,1])  #display the index of element to be search\n",
    "search=5\n",
    "x = np.where(arr == search)\n",
    "print(\"The index of searched element is : \",x)\n"
   ]
  },
  {
   "cell_type": "code",
   "execution_count": 14,
   "metadata": {},
   "outputs": [
    {
     "name": "stdout",
     "output_type": "stream",
     "text": [
      "Index of element 8 is 2\n"
     ]
    }
   ],
   "source": [
    "#A python program to find the index where the inserted value is 7\n",
    "\n",
    "import numpy as np\n",
    "arr = np.array([6, 7, 8, 9])\n",
    "x = np.searchsorted(arr, 8)\n",
    "print(\"Index of element {} is {}\".format(8,x))\n"
   ]
  },
  {
   "cell_type": "markdown",
   "metadata": {},
   "source": [
    "# Numpy array sorting"
   ]
  },
  {
   "cell_type": "code",
   "execution_count": 15,
   "metadata": {},
   "outputs": [
    {
     "name": "stdout",
     "output_type": "stream",
     "text": [
      "[0 1 2 3 5]\n"
     ]
    }
   ],
   "source": [
    "#Python program to sort 1-D array\n",
    "\n",
    "import numpy as np\n",
    "arr = np.array([3, 2, 0, 1,5]) #create an integer type array\n",
    "print(np.sort(arr))\n"
   ]
  },
  {
   "cell_type": "code",
   "execution_count": 16,
   "metadata": {},
   "outputs": [
    {
     "name": "stdout",
     "output_type": "stream",
     "text": [
      "[[3 8 9]\n",
      " [0 4 5]]\n"
     ]
    }
   ],
   "source": [
    "#Python program to sort 2-D array\n",
    "\n",
    "import numpy as np\n",
    "arr = np.array([[3, 9, 8], [5, 0, 4]]) # create an integer type array\n",
    "print(np.sort(arr))\n"
   ]
  },
  {
   "cell_type": "markdown",
   "metadata": {},
   "source": [
    "# NumPy array filter"
   ]
  },
  {
   "cell_type": "code",
   "execution_count": 19,
   "metadata": {},
   "outputs": [
    {
     "name": "stdout",
     "output_type": "stream",
     "text": [
      "[41 54]\n"
     ]
    }
   ],
   "source": [
    "#Python program to print an array from the elements at index 0 and 3\n",
    "\n",
    "import numpy as np\n",
    "\n",
    "arr = np.array([41, 82, 43, 54])\n",
    "x = [True, False, False, True]   # display the values only where index is True\n",
    "newarr = arr[x]  \n",
    "print(newarr)\n"
   ]
  },
  {
   "cell_type": "code",
   "execution_count": null,
   "metadata": {},
   "outputs": [],
   "source": []
  }
 ],
 "metadata": {
  "kernelspec": {
   "display_name": "Python 3",
   "language": "python",
   "name": "python3"
  },
  "language_info": {
   "codemirror_mode": {
    "name": "ipython",
    "version": 3
   },
   "file_extension": ".py",
   "mimetype": "text/x-python",
   "name": "python",
   "nbconvert_exporter": "python",
   "pygments_lexer": "ipython3",
   "version": "3.7.6"
  }
 },
 "nbformat": 4,
 "nbformat_minor": 4
}
