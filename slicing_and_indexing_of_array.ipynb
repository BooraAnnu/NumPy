{
 "cells": [
  {
   "cell_type": "markdown",
   "metadata": {},
   "source": [
    "# Slicing in numpy arrays"
   ]
  },
  {
   "cell_type": "code",
   "execution_count": 15,
   "metadata": {},
   "outputs": [
    {
     "name": "stdout",
     "output_type": "stream",
     "text": [
      "Original array :  [1 2 3 4 5 6 7]\n",
      "New array after slicing :  [2 4 6]\n"
     ]
    }
   ],
   "source": [
    "#Program to understand the slicing operations\n",
    "\n",
    "from numpy import *\n",
    "\n",
    "a= arange(1,8)\n",
    "print(\"Original array : \",a)\n",
    "\n",
    "#retrieve from index 1st to one element prior to 6th in stepsize of 2\n",
    "b= a[1:6:2]\n",
    "print(\"New array after slicing : \",b)\n",
    "\n"
   ]
  },
  {
   "cell_type": "code",
   "execution_count": 16,
   "metadata": {},
   "outputs": [
    {
     "name": "stdout",
     "output_type": "stream",
     "text": [
      "[6 5 4 3]\n"
     ]
    }
   ],
   "source": [
    "b= a[-2:1:-1]   #retrieve using decreasing stepsize\n",
    "print(b)"
   ]
  },
  {
   "cell_type": "code",
   "execution_count": 17,
   "metadata": {},
   "outputs": [
    {
     "name": "stdout",
     "output_type": "stream",
     "text": [
      "[1 2 3 4]\n"
     ]
    }
   ],
   "source": [
    "b=a[:-3:]  #from 0th element to one element prior to 4th element(7-3=4)\n",
    "print(b)"
   ]
  },
  {
   "cell_type": "markdown",
   "metadata": {},
   "source": [
    "# Indexing in numpy arrays"
   ]
  },
  {
   "cell_type": "code",
   "execution_count": 19,
   "metadata": {},
   "outputs": [
    {
     "name": "stdout",
     "output_type": "stream",
     "text": [
      "Original array :  [1 2 3 4 5 6 7]\n",
      "New array after indexing :  [2 3 4 5 6]\n"
     ]
    }
   ],
   "source": [
    "#Program to understand the indexing operations\n",
    "\n",
    "from numpy import *\n",
    "\n",
    "a= arange(1,8)\n",
    "print(\"Original array : \",a)\n",
    "\n",
    "#retrieve from index 1st to one element prior to 6th in stepsize of 2\n",
    "b= a[1:6:1]\n",
    "print(\"New array after indexing : \",b)"
   ]
  },
  {
   "cell_type": "code",
   "execution_count": 22,
   "metadata": {},
   "outputs": [
    {
     "name": "stdout",
     "output_type": "stream",
     "text": [
      "Length of array a is :  7\n"
     ]
    }
   ],
   "source": [
    "print(\"Length of array a is : \",len(a))\n"
   ]
  },
  {
   "cell_type": "code",
   "execution_count": 24,
   "metadata": {},
   "outputs": [
    {
     "name": "stdout",
     "output_type": "stream",
     "text": [
      "1\n",
      "2\n",
      "3\n",
      "4\n",
      "5\n",
      "6\n",
      "7\n"
     ]
    }
   ],
   "source": [
    "#retrieve elements using indexing\n",
    "i=0 \n",
    "while (i<len(a)):\n",
    "    print(a[i])\n",
    "    i+=1"
   ]
  }
 ],
 "metadata": {
  "kernelspec": {
   "display_name": "Python 3",
   "language": "python",
   "name": "python3"
  },
  "language_info": {
   "codemirror_mode": {
    "name": "ipython",
    "version": 3
   },
   "file_extension": ".py",
   "mimetype": "text/x-python",
   "name": "python",
   "nbconvert_exporter": "python",
   "pygments_lexer": "ipython3",
   "version": "3.7.6"
  }
 },
 "nbformat": 4,
 "nbformat_minor": 4
}
