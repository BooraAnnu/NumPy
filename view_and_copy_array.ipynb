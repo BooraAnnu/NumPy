{
 "cells": [
  {
   "cell_type": "markdown",
   "metadata": {},
   "source": [
    "# Create view for an array"
   ]
  },
  {
   "cell_type": "code",
   "execution_count": 5,
   "metadata": {},
   "outputs": [
    {
     "name": "stdout",
     "output_type": "stream",
     "text": [
      "Original array :  [1 2 3 4 5]\n",
      "New array :  [1 2 3 4 5]\n"
     ]
    }
   ],
   "source": [
    "#Program to create view for an array\n",
    "\n",
    "from numpy import *\n",
    "\n",
    "a= arange(1,6)\n",
    "print(\"Original array : \",a)\n",
    "b= a.view()   #create view\n",
    "print(\"New array : \",b)\n"
   ]
  },
  {
   "cell_type": "code",
   "execution_count": null,
   "metadata": {},
   "outputs": [],
   "source": [
    "#Program to copy an array as another array\n",
    "\n",
    "from numpy import *\n",
    "\n",
    "a= arange(1,6)\n",
    "print(\"Original array : \",a)\n",
    "b= a.view()   #create view\n",
    "print(\"New array : \",b)\n"
   ]
  },
  {
   "cell_type": "code",
   "execution_count": 4,
   "metadata": {},
   "outputs": [
    {
     "name": "stdout",
     "output_type": "stream",
     "text": [
      "After modifications-\n",
      "Original array :  [33  2  3 67  5]\n",
      "New array :  [33  2  3 67  5]\n"
     ]
    }
   ],
   "source": [
    "b[0]= 33  #modify 0th element of b\n",
    "b[3]= 67    #modify 3rd element of b\n",
    "\n",
    "print(\"After modifications-\")\n",
    "print(\"Original array : \",a)\n",
    "print(\"New array : \",b)"
   ]
  },
  {
   "cell_type": "markdown",
   "metadata": {},
   "source": [
    "# Create copy array"
   ]
  },
  {
   "cell_type": "code",
   "execution_count": 6,
   "metadata": {},
   "outputs": [
    {
     "name": "stdout",
     "output_type": "stream",
     "text": [
      "Original array :  [1 2 3 4 5]\n",
      "New array :  [1 2 3 4 5]\n"
     ]
    }
   ],
   "source": [
    "#Program to copy an array as another array\n",
    "\n",
    "from numpy import *\n",
    "\n",
    "a= arange(1,6)\n",
    "print(\"Original array : \",a)\n",
    "b= a.copy()   #create copy of array\n",
    "print(\"New array : \",b)\n"
   ]
  },
  {
   "cell_type": "code",
   "execution_count": 7,
   "metadata": {},
   "outputs": [
    {
     "name": "stdout",
     "output_type": "stream",
     "text": [
      "After modifications-\n",
      "Original array :  [1 2 3 4 5]\n",
      "New array :  [33  2  3 67  5]\n"
     ]
    }
   ],
   "source": [
    "b[0]= 33  #modify 0th element of b\n",
    "b[3]= 67    #modify 3rd element of b\n",
    "\n",
    "print(\"After modifications-\")\n",
    "print(\"Original array : \",a)\n",
    "print(\"New array : \",b)"
   ]
  }
 ],
 "metadata": {
  "kernelspec": {
   "display_name": "Python 3",
   "language": "python",
   "name": "python3"
  },
  "language_info": {
   "codemirror_mode": {
    "name": "ipython",
    "version": 3
   },
   "file_extension": ".py",
   "mimetype": "text/x-python",
   "name": "python",
   "nbconvert_exporter": "python",
   "pygments_lexer": "ipython3",
   "version": "3.7.6"
  }
 },
 "nbformat": 4,
 "nbformat_minor": 4
}
