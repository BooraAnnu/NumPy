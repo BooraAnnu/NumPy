{
 "cells": [
  {
   "cell_type": "markdown",
   "metadata": {},
   "source": [
    "# Use of nonzero function"
   ]
  },
  {
   "cell_type": "code",
   "execution_count": 12,
   "metadata": {},
   "outputs": [
    {
     "name": "stdout",
     "output_type": "stream",
     "text": [
      "(array([0, 1, 3, 4, 5, 7], dtype=int64),)\n",
      "[0 1 3 4 5 7]\n"
     ]
    }
   ],
   "source": [
    "#Program to retrieve the non zero elements from an array\n",
    "\n",
    "from numpy import *\n",
    "\n",
    "a= array([1,2,0,-3,9,-5,0,7], int)\n",
    "\n",
    "b= nonzero(a)\n",
    "print(b)\n",
    "\n",
    "#retrieve indexes of non zero elements\n",
    "for i in b:\n",
    "    print(i)\n"
   ]
  },
  {
   "cell_type": "code",
   "execution_count": 13,
   "metadata": {},
   "outputs": [
    {
     "name": "stdout",
     "output_type": "stream",
     "text": [
      "[ 1  2 -3  9 -5  7]\n"
     ]
    }
   ],
   "source": [
    "print(a[i])   # print the value of non zero elements"
   ]
  }
 ],
 "metadata": {
  "kernelspec": {
   "display_name": "Python 3",
   "language": "python",
   "name": "python3"
  },
  "language_info": {
   "codemirror_mode": {
    "name": "ipython",
    "version": 3
   },
   "file_extension": ".py",
   "mimetype": "text/x-python",
   "name": "python",
   "nbconvert_exporter": "python",
   "pygments_lexer": "ipython3",
   "version": "3.7.6"
  }
 },
 "nbformat": 4,
 "nbformat_minor": 4
}
