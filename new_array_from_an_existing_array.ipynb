{
 "cells": [
  {
   "cell_type": "markdown",
   "metadata": {},
   "source": [
    "# Create an array from another array"
   ]
  },
  {
   "cell_type": "code",
   "execution_count": 2,
   "metadata": {},
   "outputs": [
    {
     "name": "stdout",
     "output_type": "stream",
     "text": [
      "a =  [1 2 3 4 5]\n",
      "b =  [1 2 3 4 5]\n",
      "c =  [1 2 3 4 5]\n"
     ]
    }
   ],
   "source": [
    "#A python program to create an array from another array\n",
    "\n",
    "from numpy import *\n",
    "\n",
    "a=array([1,2,3,4,5])    # original array\n",
    "b= array(a)             #create b using array() function\n",
    "c= a                    #create c by assigning a to c\n",
    "\n",
    "#display arrays\n",
    "print(\"a = \",a)\n",
    "print(\"b = \",b)\n",
    "print(\"c = \" ,c)\n"
   ]
  }
 ],
 "metadata": {
  "kernelspec": {
   "display_name": "Python 3",
   "language": "python",
   "name": "python3"
  },
  "language_info": {
   "codemirror_mode": {
    "name": "ipython",
    "version": 3
   },
   "file_extension": ".py",
   "mimetype": "text/x-python",
   "name": "python",
   "nbconvert_exporter": "python",
   "pygments_lexer": "ipython3",
   "version": "3.7.6"
  }
 },
 "nbformat": 4,
 "nbformat_minor": 4
}
